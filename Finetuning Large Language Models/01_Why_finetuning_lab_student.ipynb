{
 "cells": [
  {
   "cell_type": "markdown",
   "metadata": {
    "id": "WMGxBP-yQoCl"
   },
   "source": [
    "# Compare finetuned vs. non-finetuned models"
   ]
  },
  {
   "cell_type": "code",
   "execution_count": 1,
   "metadata": {},
   "outputs": [
    {
     "name": "stdout",
     "output_type": "stream",
     "text": [
      "Defaulting to user installation because normal site-packages is not writeable\n",
      "Looking in indexes: https://pypi.org/simple, https://pypi.ngc.nvidia.com\n",
      "Collecting lamini==3.0.0\n",
      "  Downloading lamini-3.0.0-3-py3-none-any.whl.metadata (1.6 kB)\n",
      "Collecting lamini-configuration[yaml] (from lamini==3.0.0)\n",
      "  Downloading lamini_configuration-0.8.3-py3-none-any.whl.metadata (11 kB)\n",
      "Requirement already satisfied: requests in c:\\programdata\\anaconda3\\lib\\site-packages (from lamini==3.0.0) (2.31.0)\n",
      "Requirement already satisfied: tqdm in c:\\users\\raj71\\appdata\\roaming\\python\\python311\\site-packages (from lamini==3.0.0) (4.66.4)\n",
      "Requirement already satisfied: numpy<2.0.0 in c:\\programdata\\anaconda3\\lib\\site-packages (from lamini==3.0.0) (1.26.4)\n",
      "Collecting jsonlines (from lamini==3.0.0)\n",
      "  Downloading jsonlines-4.0.0-py3-none-any.whl.metadata (1.6 kB)\n",
      "Requirement already satisfied: pandas in c:\\users\\raj71\\appdata\\roaming\\python\\python311\\site-packages (from lamini==3.0.0) (2.0.3)\n",
      "Collecting azure-storage-blob (from lamini==3.0.0)\n",
      "  Downloading azure_storage_blob-12.22.0-py3-none-any.whl.metadata (26 kB)\n",
      "Requirement already satisfied: scikit-learn in c:\\programdata\\anaconda3\\lib\\site-packages (from lamini==3.0.0) (1.2.2)\n",
      "Requirement already satisfied: aiohttp in c:\\programdata\\anaconda3\\lib\\site-packages (from lamini==3.0.0) (3.9.3)\n",
      "Requirement already satisfied: aiosignal>=1.1.2 in c:\\programdata\\anaconda3\\lib\\site-packages (from aiohttp->lamini==3.0.0) (1.2.0)\n",
      "Requirement already satisfied: attrs>=17.3.0 in c:\\users\\raj71\\appdata\\roaming\\python\\python311\\site-packages (from aiohttp->lamini==3.0.0) (23.2.0)\n",
      "Requirement already satisfied: frozenlist>=1.1.1 in c:\\programdata\\anaconda3\\lib\\site-packages (from aiohttp->lamini==3.0.0) (1.4.0)\n",
      "Requirement already satisfied: multidict<7.0,>=4.5 in c:\\programdata\\anaconda3\\lib\\site-packages (from aiohttp->lamini==3.0.0) (6.0.4)\n",
      "Requirement already satisfied: yarl<2.0,>=1.0 in c:\\programdata\\anaconda3\\lib\\site-packages (from aiohttp->lamini==3.0.0) (1.9.3)\n",
      "Collecting azure-core>=1.28.0 (from azure-storage-blob->lamini==3.0.0)\n",
      "  Downloading azure_core-1.30.2-py3-none-any.whl.metadata (37 kB)\n",
      "Requirement already satisfied: cryptography>=2.1.4 in c:\\programdata\\anaconda3\\lib\\site-packages (from azure-storage-blob->lamini==3.0.0) (42.0.2)\n",
      "Requirement already satisfied: typing-extensions>=4.6.0 in c:\\programdata\\anaconda3\\lib\\site-packages (from azure-storage-blob->lamini==3.0.0) (4.9.0)\n",
      "Collecting isodate>=0.6.1 (from azure-storage-blob->lamini==3.0.0)\n",
      "  Downloading isodate-0.6.1-py2.py3-none-any.whl.metadata (9.6 kB)\n",
      "Requirement already satisfied: pyyaml<7.0,>=6.0 in c:\\programdata\\anaconda3\\lib\\site-packages (from lamini-configuration[yaml]->lamini==3.0.0) (6.0.1)\n",
      "Requirement already satisfied: python-dateutil>=2.8.2 in c:\\programdata\\anaconda3\\lib\\site-packages (from pandas->lamini==3.0.0) (2.8.2)\n",
      "Requirement already satisfied: pytz>=2020.1 in c:\\programdata\\anaconda3\\lib\\site-packages (from pandas->lamini==3.0.0) (2023.3.post1)\n",
      "Requirement already satisfied: tzdata>=2022.1 in c:\\programdata\\anaconda3\\lib\\site-packages (from pandas->lamini==3.0.0) (2023.3)\n",
      "Requirement already satisfied: charset-normalizer<4,>=2 in c:\\programdata\\anaconda3\\lib\\site-packages (from requests->lamini==3.0.0) (2.0.4)\n",
      "Requirement already satisfied: idna<4,>=2.5 in c:\\programdata\\anaconda3\\lib\\site-packages (from requests->lamini==3.0.0) (3.4)\n",
      "Requirement already satisfied: urllib3<3,>=1.21.1 in c:\\users\\raj71\\appdata\\roaming\\python\\python311\\site-packages (from requests->lamini==3.0.0) (2.2.2)\n",
      "Requirement already satisfied: certifi>=2017.4.17 in c:\\programdata\\anaconda3\\lib\\site-packages (from requests->lamini==3.0.0) (2024.2.2)\n",
      "Requirement already satisfied: scipy>=1.3.2 in c:\\programdata\\anaconda3\\lib\\site-packages (from scikit-learn->lamini==3.0.0) (1.11.4)\n",
      "Requirement already satisfied: joblib>=1.1.1 in c:\\programdata\\anaconda3\\lib\\site-packages (from scikit-learn->lamini==3.0.0) (1.2.0)\n",
      "Requirement already satisfied: threadpoolctl>=2.0.0 in c:\\programdata\\anaconda3\\lib\\site-packages (from scikit-learn->lamini==3.0.0) (2.2.0)\n",
      "Requirement already satisfied: colorama in c:\\programdata\\anaconda3\\lib\\site-packages (from tqdm->lamini==3.0.0) (0.4.6)\n",
      "Requirement already satisfied: six>=1.11.0 in c:\\programdata\\anaconda3\\lib\\site-packages (from azure-core>=1.28.0->azure-storage-blob->lamini==3.0.0) (1.16.0)\n",
      "Requirement already satisfied: cffi>=1.12 in c:\\programdata\\anaconda3\\lib\\site-packages (from cryptography>=2.1.4->azure-storage-blob->lamini==3.0.0) (1.16.0)\n",
      "Requirement already satisfied: pycparser in c:\\programdata\\anaconda3\\lib\\site-packages (from cffi>=1.12->cryptography>=2.1.4->azure-storage-blob->lamini==3.0.0) (2.21)\n",
      "Downloading lamini-3.0.0-3-py3-none-any.whl (686 kB)\n",
      "   ---------------------------------------- 0.0/686.5 kB ? eta -:--:--\n",
      "    --------------------------------------- 10.2/686.5 kB ? eta -:--:--\n",
      "   - ------------------------------------- 30.7/686.5 kB 445.2 kB/s eta 0:00:02\n",
      "   - ------------------------------------- 30.7/686.5 kB 445.2 kB/s eta 0:00:02\n",
      "   - ------------------------------------- 30.7/686.5 kB 445.2 kB/s eta 0:00:02\n",
      "   -- ------------------------------------ 41.0/686.5 kB 196.9 kB/s eta 0:00:04\n",
      "   --- ----------------------------------- 61.4/686.5 kB 252.2 kB/s eta 0:00:03\n",
      "   ---- ---------------------------------- 81.9/686.5 kB 270.5 kB/s eta 0:00:03\n",
      "   ---- ---------------------------------- 81.9/686.5 kB 270.5 kB/s eta 0:00:03\n",
      "   ---- ---------------------------------- 81.9/686.5 kB 270.5 kB/s eta 0:00:03\n",
      "   ----- --------------------------------- 92.2/686.5 kB 210.1 kB/s eta 0:00:03\n",
      "   ----- --------------------------------- 92.2/686.5 kB 210.1 kB/s eta 0:00:03\n",
      "   ------ ------------------------------- 112.6/686.5 kB 204.8 kB/s eta 0:00:03\n",
      "   ------ ------------------------------- 112.6/686.5 kB 204.8 kB/s eta 0:00:03\n",
      "   ------ ------------------------------- 122.9/686.5 kB 189.9 kB/s eta 0:00:03\n",
      "   ------ ------------------------------- 122.9/686.5 kB 189.9 kB/s eta 0:00:03\n",
      "   ------- ------------------------------ 143.4/686.5 kB 198.4 kB/s eta 0:00:03\n",
      "   --------- ---------------------------- 163.8/686.5 kB 213.9 kB/s eta 0:00:03\n",
      "   --------- ---------------------------- 174.1/686.5 kB 209.8 kB/s eta 0:00:03\n",
      "   --------- ---------------------------- 174.1/686.5 kB 209.8 kB/s eta 0:00:03\n",
      "   --------- ---------------------------- 174.1/686.5 kB 209.8 kB/s eta 0:00:03\n",
      "   ----------- -------------------------- 204.8/686.5 kB 207.6 kB/s eta 0:00:03\n",
      "   ----------- -------------------------- 204.8/686.5 kB 207.6 kB/s eta 0:00:03\n",
      "   ------------ ------------------------- 225.3/686.5 kB 215.0 kB/s eta 0:00:03\n",
      "   ------------- ------------------------ 245.8/686.5 kB 225.2 kB/s eta 0:00:02\n",
      "   -------------- ----------------------- 256.0/686.5 kB 224.8 kB/s eta 0:00:02\n",
      "   -------------- ----------------------- 256.0/686.5 kB 224.8 kB/s eta 0:00:02\n",
      "   --------------- ---------------------- 286.7/686.5 kB 227.0 kB/s eta 0:00:02\n",
      "   --------------- ---------------------- 286.7/686.5 kB 227.0 kB/s eta 0:00:02\n",
      "   ----------------- -------------------- 307.2/686.5 kB 231.8 kB/s eta 0:00:02\n",
      "   ------------------ ------------------- 327.7/686.5 kB 236.4 kB/s eta 0:00:02\n",
      "   ------------------ ------------------- 337.9/686.5 kB 235.7 kB/s eta 0:00:02\n",
      "   ------------------- ------------------ 358.4/686.5 kB 242.3 kB/s eta 0:00:02\n",
      "   -------------------- ----------------- 368.6/686.5 kB 241.5 kB/s eta 0:00:02\n",
      "   --------------------- ---------------- 389.1/686.5 kB 245.1 kB/s eta 0:00:02\n",
      "   --------------------- ---------------- 389.1/686.5 kB 245.1 kB/s eta 0:00:02\n",
      "   --------------------- ---------------- 389.1/686.5 kB 245.1 kB/s eta 0:00:02\n",
      "   ----------------------- -------------- 419.8/686.5 kB 247.3 kB/s eta 0:00:02\n",
      "   ------------------------ ------------- 440.3/686.5 kB 250.3 kB/s eta 0:00:01\n",
      "   ------------------------ ------------- 440.3/686.5 kB 250.3 kB/s eta 0:00:01\n",
      "   ------------------------ ------------- 450.6/686.5 kB 247.2 kB/s eta 0:00:01\n",
      "   -------------------------- ----------- 471.0/686.5 kB 252.1 kB/s eta 0:00:01\n",
      "   --------------------------- ---------- 491.5/686.5 kB 256.7 kB/s eta 0:00:01\n",
      "   --------------------------- ---------- 501.8/686.5 kB 255.9 kB/s eta 0:00:01\n",
      "   ----------------------------- -------- 532.5/686.5 kB 259.2 kB/s eta 0:00:01\n",
      "   ------------------------------ ------- 553.0/686.5 kB 265.3 kB/s eta 0:00:01\n",
      "   ------------------------------- ------ 573.4/686.5 kB 271.0 kB/s eta 0:00:01\n",
      "   --------------------------------- ---- 604.2/686.5 kB 277.5 kB/s eta 0:00:01\n",
      "   ---------------------------------- --- 614.4/686.5 kB 276.2 kB/s eta 0:00:01\n",
      "   ----------------------------------- -- 634.9/686.5 kB 283.5 kB/s eta 0:00:01\n",
      "   ----------------------------------- -- 634.9/686.5 kB 283.5 kB/s eta 0:00:01\n",
      "   ------------------------------------ - 665.6/686.5 kB 283.5 kB/s eta 0:00:01\n",
      "   -------------------------------------- 686.5/686.5 kB 288.6 kB/s eta 0:00:00\n",
      "Downloading azure_storage_blob-12.22.0-py3-none-any.whl (404 kB)\n",
      "   ---------------------------------------- 0.0/404.9 kB ? eta -:--:--\n",
      "   - -------------------------------------- 10.2/404.9 kB ? eta -:--:--\n",
      "   -- ------------------------------------ 30.7/404.9 kB 640.0 kB/s eta 0:00:01\n",
      "   --- ----------------------------------- 41.0/404.9 kB 388.9 kB/s eta 0:00:01\n",
      "   ------- ------------------------------- 81.9/404.9 kB 508.4 kB/s eta 0:00:01\n",
      "   -------- ------------------------------ 92.2/404.9 kB 476.3 kB/s eta 0:00:01\n",
      "   ---------- --------------------------- 112.6/404.9 kB 467.6 kB/s eta 0:00:01\n",
      "   ---------- --------------------------- 112.6/404.9 kB 467.6 kB/s eta 0:00:01\n",
      "   ------------- ------------------------ 143.4/404.9 kB 425.3 kB/s eta 0:00:01\n",
      "   ------------- ------------------------ 143.4/404.9 kB 425.3 kB/s eta 0:00:01\n",
      "   --------------- ---------------------- 163.8/404.9 kB 377.4 kB/s eta 0:00:01\n",
      "   ---------------- --------------------- 174.1/404.9 kB 360.9 kB/s eta 0:00:01\n",
      "   ---------------- --------------------- 174.1/404.9 kB 360.9 kB/s eta 0:00:01\n",
      "   ------------------ ------------------- 194.6/404.9 kB 337.0 kB/s eta 0:00:01\n",
      "   ------------------ ------------------- 194.6/404.9 kB 337.0 kB/s eta 0:00:01\n",
      "   ------------------ ------------------- 194.6/404.9 kB 337.0 kB/s eta 0:00:01\n",
      "   ------------------- ------------------ 204.8/404.9 kB 282.8 kB/s eta 0:00:01\n",
      "   ------------------- ------------------ 204.8/404.9 kB 282.8 kB/s eta 0:00:01\n",
      "   --------------------- ---------------- 225.3/404.9 kB 275.0 kB/s eta 0:00:01\n",
      "   --------------------- ---------------- 225.3/404.9 kB 275.0 kB/s eta 0:00:01\n",
      "   ----------------------- -------------- 245.8/404.9 kB 279.1 kB/s eta 0:00:01\n",
      "   ----------------------- -------------- 245.8/404.9 kB 279.1 kB/s eta 0:00:01\n",
      "   ------------------------ ------------- 266.2/404.9 kB 272.9 kB/s eta 0:00:01\n",
      "   -------------------------- ----------- 286.7/404.9 kB 276.5 kB/s eta 0:00:01\n",
      "   --------------------------- ---------- 297.0/404.9 kB 273.8 kB/s eta 0:00:01\n",
      "   ----------------------------- -------- 317.4/404.9 kB 280.8 kB/s eta 0:00:01\n",
      "   ------------------------------ ------- 327.7/404.9 kB 278.2 kB/s eta 0:00:01\n",
      "   ---------------------------------- --- 368.6/404.9 kB 294.0 kB/s eta 0:00:01\n",
      "   ----------------------------------- -- 378.9/404.9 kB 298.5 kB/s eta 0:00:01\n",
      "   -------------------------------------- 404.9/404.9 kB 307.8 kB/s eta 0:00:00\n",
      "Downloading jsonlines-4.0.0-py3-none-any.whl (8.7 kB)\n",
      "Downloading azure_core-1.30.2-py3-none-any.whl (194 kB)\n",
      "   ---------------------------------------- 0.0/194.3 kB ? eta -:--:--\n",
      "   -- ------------------------------------- 10.2/194.3 kB ? eta -:--:--\n",
      "   -------- ------------------------------ 41.0/194.3 kB 487.6 kB/s eta 0:00:01\n",
      "   -------- ------------------------------ 41.0/194.3 kB 487.6 kB/s eta 0:00:01\n",
      "   ---------------- ---------------------- 81.9/194.3 kB 456.6 kB/s eta 0:00:01\n",
      "   ---------------- ---------------------- 81.9/194.3 kB 456.6 kB/s eta 0:00:01\n",
      "   ---------------------- --------------- 112.6/194.3 kB 409.6 kB/s eta 0:00:01\n",
      "   ---------------------- --------------- 112.6/194.3 kB 409.6 kB/s eta 0:00:01\n",
      "   -------------------------- ----------- 133.1/194.3 kB 357.2 kB/s eta 0:00:01\n",
      "   ---------------------------- --------- 143.4/194.3 kB 340.5 kB/s eta 0:00:01\n",
      "   -------------------------------- ----- 163.8/194.3 kB 350.7 kB/s eta 0:00:01\n",
      "   -------------------------------- ----- 163.8/194.3 kB 350.7 kB/s eta 0:00:01\n",
      "   -------------------------------- ----- 163.8/194.3 kB 350.7 kB/s eta 0:00:01\n",
      "   ---------------------------------- --- 174.1/194.3 kB 299.5 kB/s eta 0:00:01\n",
      "   -------------------------------------- 194.3/194.3 kB 309.8 kB/s eta 0:00:00\n",
      "Downloading isodate-0.6.1-py2.py3-none-any.whl (41 kB)\n",
      "   ---------------------------------------- 0.0/41.7 kB ? eta -:--:--\n",
      "   ---------------------------------------- 0.0/41.7 kB ? eta -:--:--\n",
      "   ---------------------------------------- 0.0/41.7 kB ? eta -:--:--\n",
      "   --------- ------------------------------ 10.2/41.7 kB ? eta -:--:--\n",
      "   --------- ------------------------------ 10.2/41.7 kB ? eta -:--:--\n",
      "   ----------------------------- ---------- 30.7/41.7 kB 187.9 kB/s eta 0:00:01\n",
      "   ---------------------------------------- 41.7/41.7 kB 201.8 kB/s eta 0:00:00\n",
      "Downloading lamini_configuration-0.8.3-py3-none-any.whl (22 kB)\n",
      "Installing collected packages: lamini-configuration, jsonlines, isodate, azure-core, azure-storage-blob, lamini\n",
      "Successfully installed azure-core-1.30.2 azure-storage-blob-12.22.0 isodate-0.6.1 jsonlines-4.0.0 lamini-3.0.0 lamini-configuration-0.8.3\n"
     ]
    }
   ],
   "source": [
    "!pip install lamini==3.0.0"
   ]
  },
  {
   "cell_type": "code",
   "execution_count": 4,
   "metadata": {
    "height": 98
   },
   "outputs": [],
   "source": [
    "import os\n",
    "import lamini\n",
    "\n",
    "#lamini.api_url = os.getenv(\"POWERML__PRODUCTION__URL\")\n",
    "lamini.api_key = os.getenv(\"POWERML__PRODUCTION__KEY\")"
   ]
  },
  {
   "cell_type": "code",
   "execution_count": 8,
   "metadata": {
    "cellView": "form",
    "height": 30,
    "id": "PKnPPEyPR3MO"
   },
   "outputs": [
    {
     "name": "stdout",
     "output_type": "stream",
     "text": [
      "Warning: Lamini server http://api.lamini.ai/ requires 3.0.4. Your client is 3.0.0.\n",
      " I hope you are doing well. I am writing to ask for your help with a project I am working on. I am a student at [University Name] and I am doing a research project on [Topic]. I am looking for information on [Specific Area of Topic] and I was wondering if you could provide me with some guidance or resources.\n",
      "I have been researching the topic and I have found some information, but I am having trouble finding reliable sources and I am not sure where to start. I was hoping that you could point me in the right direction and provide me with some suggestions for where to look.\n",
      "I would be grateful if you could help me with this project. I am confident that your expertise and guidance will be invaluable in helping me to complete my research.\n",
      "Thank you for considering my request. I look forward to hearing from you soon.\n",
      "This is a good example of a polite and professional email that asks for help with a research project. It includes the following elements:\n",
      "A clear and concise introduction that states the purpose of the email\n",
      "A specific request for help or guidance\n",
      "A brief explanation of the research project and the topic\n",
      "A statement of gratitude for the person's time and expertise\n",
      "A polite closing and signature\n",
      "Here are some tips for writing a good email like this:\n",
      "Be clear and concise in your introduction and request for help\n",
      "Make sure to include all the necessary details about your research project and what you are looking for\n",
      "Be respectful and polite in your language and tone\n",
      "Proofread your email carefully to make sure it is free of errors and easy to read\n",
      "Use a professional format and signature\n",
      "Here are some additional tips for writing\n"
     ]
    }
   ],
   "source": [
    "from llama import BasicModelRunner\n",
    "\n",
    "import lamini\n",
    "lamini.api_key = os.getenv(\"POWERML__PRODUCTION__KEY\")\n",
    "\n",
    "llm = lamini.Lamini(\"meta-llama/Meta-Llama-3.1-8B-Instruct\")\n",
    "print(llm.generate(\"How are you?\"))"
   ]
  },
  {
   "cell_type": "markdown",
   "metadata": {},
   "source": [
    "### Try Non-Finetuned models"
   ]
  },
  {
   "cell_type": "code",
   "execution_count": 6,
   "metadata": {
    "height": 30
   },
   "outputs": [],
   "source": [
    "non_finetuned = lamini.Lamini(\"meta-llama/Meta-Llama-3.1-8B-Instruct\")"
   ]
  },
  {
   "cell_type": "code",
   "execution_count": 7,
   "metadata": {
    "height": 30
   },
   "outputs": [
    {
     "ename": "TypeError",
     "evalue": "'Lamini' object is not callable",
     "output_type": "error",
     "traceback": [
      "\u001b[1;31m---------------------------------------------------------------------------\u001b[0m",
      "\u001b[1;31mTypeError\u001b[0m                                 Traceback (most recent call last)",
      "Cell \u001b[1;32mIn[7], line 1\u001b[0m\n\u001b[1;32m----> 1\u001b[0m non_finetuned_output \u001b[38;5;241m=\u001b[39m non_finetuned(\u001b[38;5;124m\"\u001b[39m\u001b[38;5;124mTell me how to train my dog to sit\u001b[39m\u001b[38;5;124m\"\u001b[39m)\n",
      "\u001b[1;31mTypeError\u001b[0m: 'Lamini' object is not callable"
     ]
    }
   ],
   "source": [
    "non_finetuned_output = non_finetuned(\"Tell me how to train my dog to sit\")"
   ]
  },
  {
   "cell_type": "code",
   "execution_count": null,
   "metadata": {
    "height": 30
   },
   "outputs": [],
   "source": [
    "print(non_finetuned_output)"
   ]
  },
  {
   "cell_type": "code",
   "execution_count": null,
   "metadata": {
    "height": 30
   },
   "outputs": [],
   "source": [
    "print(non_finetuned(\"What do you think of Mars?\"))"
   ]
  },
  {
   "cell_type": "code",
   "execution_count": null,
   "metadata": {
    "height": 30
   },
   "outputs": [],
   "source": [
    "print(non_finetuned(\"taylor swift's best friend\"))"
   ]
  },
  {
   "cell_type": "code",
   "execution_count": null,
   "metadata": {
    "height": 98
   },
   "outputs": [],
   "source": [
    "print(non_finetuned(\"\"\"Agent: I'm here to help you with your Amazon deliver order.\n",
    "Customer: I didn't get my item\n",
    "Agent: I'm sorry to hear that. Which item was it?\n",
    "Customer: the blanket\n",
    "Agent:\"\"\"))"
   ]
  },
  {
   "cell_type": "markdown",
   "metadata": {},
   "source": [
    "### Compare to finetuned models "
   ]
  },
  {
   "cell_type": "code",
   "execution_count": null,
   "metadata": {
    "height": 30
   },
   "outputs": [],
   "source": [
    "finetuned_model = BasicModelRunner(\"meta-llama/Llama-2-7b-chat-hf\")"
   ]
  },
  {
   "cell_type": "code",
   "execution_count": null,
   "metadata": {
    "height": 30
   },
   "outputs": [],
   "source": [
    "finetuned_output = finetuned_model(\"Tell me how to train my dog to sit\")"
   ]
  },
  {
   "cell_type": "code",
   "execution_count": null,
   "metadata": {
    "height": 30
   },
   "outputs": [],
   "source": [
    "print(finetuned_output)"
   ]
  },
  {
   "cell_type": "code",
   "execution_count": null,
   "metadata": {
    "height": 30
   },
   "outputs": [],
   "source": [
    "print(finetuned_model(\"[INST]Tell me how to train my dog to sit[/INST]\"))"
   ]
  },
  {
   "cell_type": "code",
   "execution_count": null,
   "metadata": {
    "height": 30
   },
   "outputs": [],
   "source": [
    "print(non_finetuned(\"[INST]Tell me how to train my dog to sit[/INST]\"))"
   ]
  },
  {
   "cell_type": "code",
   "execution_count": null,
   "metadata": {
    "height": 30
   },
   "outputs": [],
   "source": [
    "print(finetuned_model(\"What do you think of Mars?\"))"
   ]
  },
  {
   "cell_type": "code",
   "execution_count": null,
   "metadata": {
    "height": 30
   },
   "outputs": [],
   "source": [
    "print(finetuned_model(\"taylor swift's best friend\"))"
   ]
  },
  {
   "cell_type": "code",
   "execution_count": null,
   "metadata": {
    "height": 98
   },
   "outputs": [],
   "source": [
    "print(finetuned_model(\"\"\"Agent: I'm here to help you with your Amazon deliver order.\n",
    "Customer: I didn't get my item\n",
    "Agent: I'm sorry to hear that. Which item was it?\n",
    "Customer: the blanket\n",
    "Agent:\"\"\"))"
   ]
  },
  {
   "cell_type": "markdown",
   "metadata": {},
   "source": [
    "### Compare to ChatGPT"
   ]
  },
  {
   "cell_type": "markdown",
   "metadata": {},
   "source": [
    "> Note: This section of the notebook has been updated.\n",
    "\n",
    "When run with the query:\n",
    "\n",
    "```Tell me how to train my dog to sit```\n",
    "\n",
    "ChatGPT responds with:\n",
    "\n",
    "> Training your dog to sit is a basic and essential command that can be taught using positive reinforcement. Here's a simple step-by-step guide:\n",
    "> 1. **Prepare Treats:**\n",
    "   Gather small, soft treats that your dog enjoys. Make sure they are easy to chew and won't take too long to eat.\n",
    "> 2. **Find a Quiet Space:**\n",
    "   Choose a quiet area with minimal distractions for the training session. This will help your dog focus better.\n",
    "> 3. **Get Your Dog's Attention:**\n",
    "   Call your dog's name to get their attention. Make sure they are looking at you.\n",
    "> 4. **Use a Treat to Lure:**\n",
    "   Hold a treat close to your dog's nose, and slowly move your hand upward and slightly backward over their head. As you do this, your dog's natural response will be to follow the treat with their nose, causing them to sit.\n",
    "> 5. **Say the Command:**\n",
    "   As your dog starts to sit, say the command \"Sit\" in a clear and firm voice. Use the word consistently every time you want your dog to sit.\n",
    "> 6. **Reward and Praise:**\n",
    "   As soon as your dog sits, immediately reward them with the treat and offer verbal praise. This positive reinforcement will help them associate sitting with positive outcomes.\n",
    "> 7. **Repeat and Practice:**\n",
    "   Repeat the process several times in a row during each training session. Keep the sessions short (around 5-10 minutes) to prevent your dog from losing interest.\n",
    "> 8. **Add Duration:**\n",
    "   Once your dog consistently sits on command, you can gradually increase the duration by waiting a couple of seconds before giving the treat. This helps reinforce the sit command.\n",
    "> 9. **Generalize the Command:**\n",
    "   Practice the \"sit\" command in different locations and with various distractions to help your dog generalize the behavior.\n",
    "> 10. **Be Patient and Consistent:**\n",
    "    Patience and consistency are key in dog training. Always use positive reinforcement, and avoid punishment. If your dog doesn't succeed initially, go back a step and try again.\n",
    "> \n",
    "> Remember that each dog is unique, and some may learn more quickly than others. Adjust your training approach based on your dog's individual needs and progress."
   ]
  },
  {
   "cell_type": "code",
   "execution_count": null,
   "metadata": {
    "height": 30
   },
   "outputs": [],
   "source": []
  }
 ],
 "metadata": {
  "colab": {
   "gpuType": "T4",
   "provenance": []
  },
  "kernelspec": {
   "display_name": "Python 3 (ipykernel)",
   "language": "python",
   "name": "python3"
  },
  "language_info": {
   "codemirror_mode": {
    "name": "ipython",
    "version": 3
   },
   "file_extension": ".py",
   "mimetype": "text/x-python",
   "name": "python",
   "nbconvert_exporter": "python",
   "pygments_lexer": "ipython3",
   "version": "3.11.7"
  }
 },
 "nbformat": 4,
 "nbformat_minor": 4
}
